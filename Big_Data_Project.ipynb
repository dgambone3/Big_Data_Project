{
 "cells": [
  {
   "cell_type": "code",
   "execution_count": 1,
   "metadata": {},
   "outputs": [],
   "source": [
    "import os\n",
    "import pandas as pd\n",
    "from pyspark.sql import DataFrame\n",
    "import pyspark.sql.functions as sf\n",
    "from pyspark.sql.types import *\n",
    "from pyspark.ml.feature import StopWordsRemover, Tokenizer\n"
   ]
  },
  {
   "cell_type": "code",
   "execution_count": 2,
   "metadata": {},
   "outputs": [
    {
     "name": "stderr",
     "output_type": "stream",
     "text": [
      "Setting default log level to \"WARN\".\n",
      "To adjust logging level use sc.setLogLevel(newLevel). For SparkR, use setLogLevel(newLevel).\n",
      "23/11/24 14:05:32 WARN NativeCodeLoader: Unable to load native-hadoop library for your platform... using builtin-java classes where applicable\n"
     ]
    }
   ],
   "source": [
    "from pyspark.sql import SparkSession\n",
    "\n",
    "spark = (\n",
    "    SparkSession.builder\n",
    "    .master(\"spark://127.0.0.1:7077\")\n",
    "    # the number of executors this job needs\n",
    "    .config(\"spark.executor.instances\", 2)\n",
    "    # the number of CPU cores memory this needs from the executor,\n",
    "    # it would be reserved on the worker\n",
    "    .config(\"spark.executor.cores\", \"2\")\n",
    "    .config(\"spark.executor.memory\", \"4G\")\n",
    "    .getOrCreate()\n",
    ")\n",
    "sc = spark.sparkContext"
   ]
  },
  {
   "cell_type": "code",
   "execution_count": 3,
   "metadata": {},
   "outputs": [
    {
     "name": "stderr",
     "output_type": "stream",
     "text": [
      "                                                                                \r"
     ]
    }
   ],
   "source": [
    "# show first 5 rows of json data\n",
    "data = spark.read.json(\"data/Pet_Supplies.json\")"
   ]
  },
  {
   "cell_type": "code",
   "execution_count": 4,
   "metadata": {},
   "outputs": [],
   "source": [
    "# data.printSchema()\n",
    "data_schema = StructType([StructField(\"asin\", StringType(), True),\n",
    "                            # StructField(\"image\", StringType(), True),\n",
    "                            StructField(\"overall\", DoubleType(), True),\n",
    "                            StructField(\"reviewText\", StringType(), True),\n",
    "                            StructField(\"reviewTime\", StringType(), True),\n",
    "                            StructField(\"reviewerID\", StringType(), True),\n",
    "                            StructField(\"reviewerName\", StringType(), True),\n",
    "                            StructField(\"style\", StructType([\n",
    "                                StructField(\"Color Name\", StringType(), True),\n",
    "                                StructField(\"Color\", StringType(), True),\n",
    "                                StructField(\"Design\", StringType(), True),\n",
    "                                StructField(\"Flavor Name\", StringType(), True),\n",
    "                                StructField(\"Flavor\", StringType(), True),\n",
    "                                StructField(\"Format\", StringType(), True),\n",
    "                                StructField(\"Item Display Length\", StringType(), True),\n",
    "                                StructField(\"Item Display Weight\", StringType(), True),\n",
    "                                StructField(\"Item Package Quantity\", StringType(), True),\n",
    "                                StructField(\"Item Shape\", StringType(), True),\n",
    "                                StructField(\"Length\", StringType(), True),\n",
    "                                StructField(\"Material\", StringType(), True),\n",
    "                                StructField(\"Model Number\", StringType(), True),\n",
    "                                StructField(\"Number of Items\", StringType(), True),\n",
    "                                StructField(\"Package Quantity\", StringType(), True),\n",
    "                                StructField(\"Package Type\", StringType(), True),\n",
    "                                StructField(\"Pattern\", StringType(), True),\n",
    "                                StructField(\"Product Packaging\", StringType(), True),\n",
    "                                StructField(\"Scent Name\", StringType(), True),\n",
    "                                StructField(\"Scent\", StringType(), True),\n",
    "                                StructField(\"Size Name\", StringType(), True),\n",
    "                                StructField(\"Size\", StringType(), True),\n",
    "                                StructField(\"Style Name\", StringType(), True),\n",
    "                                StructField(\"Style\", StringType(), True),\n",
    "                                StructField(\"Wattage\", StringType(), True)]), True),\n",
    "                            StructField(\"summary\", StringType(), True),\n",
    "                            StructField(\"unixReviewTime\", LongType(), True),\n",
    "                            StructField(\"verified\", BooleanType(), True),\n",
    "                            StructField(\"vote\", StringType(), True)])\n"
   ]
  },
  {
   "cell_type": "code",
   "execution_count": 5,
   "metadata": {},
   "outputs": [],
   "source": [
    "# data_df = spark.read.schema(data_schema).json(\"data/Pet_Supplies.json\")\n",
    "data_df = spark.read.json(\"data/Pet_Supplies.json\", schema=data_schema)"
   ]
  },
  {
   "cell_type": "markdown",
   "metadata": {},
   "source": [
    "##### Data Info\n",
    "        data_df.columns --> ['asin', 'overall', 'reviewText', 'reviewTime', 'reviewerID', 'reviewerName',\n",
    "                            \n",
    "                                'style', 'summary', 'unixReviewTime', 'verified', 'vote']\n",
    "\n",
    "        Number of rows: 6,542,483; Number of columns: 11\n"
   ]
  },
  {
   "cell_type": "code",
   "execution_count": 141,
   "metadata": {},
   "outputs": [
    {
     "name": "stdout",
     "output_type": "stream",
     "text": [
      "+----------+-------+------------------------------------------------------------------------------------------------------------------------------------------------------------------------------------------------------------------------------------------+-----------+--------------+----------------+-----+-------------------------------+--------------+--------+----+\n",
      "|asin      |overall|reviewText                                                                                                                                                                                                                                |reviewTime |reviewerID    |reviewerName    |style|summary                        |unixReviewTime|verified|vote|\n",
      "+----------+-------+------------------------------------------------------------------------------------------------------------------------------------------------------------------------------------------------------------------------------------------+-----------+--------------+----------------+-----+-------------------------------+--------------+--------+----+\n",
      "|0972585419|3.0    |Either my bird can't talk, or it really doesnt want to say \"I love you.\" The disk has a lot of good phrases, but some of them will probably never be used (uh, \"Whaaaaaaaaats up?\").                                                      |09 27, 2007|A13K4OZKAAHOXS|100indecisions  |NULL |Still waiting for it to work...|1190851200    |true    |5   |\n",
      "|0972585419|4.0    |The CD is a good idea for teaching a bird to speak,but there are words on it that would never be spoken in our home so why teach them to the bird. I will look through the other choices of CD's and try to find one with different words.|08 25, 2007|A1DWYEX4P7GB7Z|J. Weaver       |NULL |Feathered Phonics volume 1     |1188000000    |true    |6   |\n",
      "|0972585419|4.0    |good cd to teach birds to talk and learn new words.  keeps my birds calm while they are home alone.                                                                                                                                       |02 20, 2007|A3NVN97YJSKEPC|Theresa Ehrhardt|NULL |bird cd                        |1171929600    |true    |5   |\n",
      "|0972585419|1.0    |I was not happy with product would like to return did not work for me                                                                                                                                                                     |12 30, 2016|A1PDMES1LYA0DP|Kathi           |NULL |One Star                       |1483056000    |true    |NULL|\n",
      "|0972585419|1.0    |This cd is scratched and it constantly skips. Disappointed                                                                                                                                                                                |12 23, 2016|AT6BH0TQLZS5X |Alyssa          |NULL |One Star                       |1482451200    |true    |NULL|\n",
      "+----------+-------+------------------------------------------------------------------------------------------------------------------------------------------------------------------------------------------------------------------------------------------+-----------+--------------+----------------+-----+-------------------------------+--------------+--------+----+\n",
      "only showing top 5 rows\n",
      "\n"
     ]
    }
   ],
   "source": [
    "data_df.show(5, truncate=False)"
   ]
  },
  {
   "cell_type": "code",
   "execution_count": 81,
   "metadata": {},
   "outputs": [],
   "source": [
    "##### Meta Data Info\n",
    "# meta_df.columns --> ['also_buy', 'also_view',  'asin',  'brand',  'category',  'date',  'description',\n",
    "\n",
    "# 'details',  'feature',  'fit',  'imageURL',  'imageURLHighRes',  'main_cat',\n",
    "\n",
    "# 'price',  'rank',  'similar_item',  'tech1',  'tech2',  'title']\n",
    "\n",
    "# Number of rows: 205,999; Number of columns: 19\n",
    "# meta_df.show(5, truncate=False)\n",
    "# join data_df and meta_df on asin\n",
    "# joined_df = data_df.join(meta_df, on=['asin'], how='left')"
   ]
  },
  {
   "cell_type": "code",
   "execution_count": 242,
   "metadata": {},
   "outputs": [
    {
     "name": "stdout",
     "output_type": "stream",
     "text": [
      "+----------+-------+--------------------+-----------+--------------+------------------+-----+--------------------+--------------+--------+----+---+\n",
      "|      asin|overall|          reviewText| reviewTime|    reviewerID|      reviewerName|style|             summary|unixReviewTime|verified|vote| id|\n",
      "+----------+-------+--------------------+-----------+--------------+------------------+-----+--------------------+--------------+--------+----+---+\n",
      "|0972585419|    3.0|Either my bird ca...|09 27, 2007|A13K4OZKAAHOXS|    100indecisions| NULL|Still waiting for...|    1190851200|    true|   5|  0|\n",
      "|0972585419|    4.0|The CD is a good ...|08 25, 2007|A1DWYEX4P7GB7Z|         J. Weaver| NULL|Feathered Phonics...|    1188000000|    true|   6|  1|\n",
      "|0972585419|    4.0|good cd to teach ...|02 20, 2007|A3NVN97YJSKEPC|  Theresa Ehrhardt| NULL|             bird cd|    1171929600|    true|   5|  2|\n",
      "|0972585419|    1.0|I was not happy w...|12 30, 2016|A1PDMES1LYA0DP|             Kathi| NULL|            One Star|    1483056000|    true|NULL|  3|\n",
      "|0972585419|    1.0|This cd is scratc...|12 23, 2016| AT6BH0TQLZS5X|            Alyssa| NULL|            One Star|    1482451200|    true|NULL|  4|\n",
      "|0972585419|    4.0|It works just fin...|12 13, 2016|A2SQLP4B8T8V0V|   Amazon Customer| NULL|It works just fin...|    1481587200|    true|NULL|  5|\n",
      "|0972585419|    3.0|I purchased this ...| 12 2, 2016|A2KN4FJVI2TZSF|              M.G.| NULL|           It's okay|    1480636800|    true|   2|  6|\n",
      "|0972585419|    3.0|Maybe it's just m...|10 17, 2016|A3RMA1DD66JDRV|          Susan P.| NULL|It might work for...|    1476662400|    true|NULL|  7|\n",
      "|0972585419|    5.0|I bought this to ...| 09 9, 2016| AAANYRIEOIT3R|     Luggie Lugnut| NULL|I bought this to ...|    1473379200|    true|   2|  8|\n",
      "|0972585419|    3.0|Bird showed no in...|08 31, 2016|A3W44VX0LXAOHU|    Melissa Partin| NULL|         Three Stars|    1472601600|    true|NULL|  9|\n",
      "|0972585419|    1.0| did not like at all|08 20, 2016|A1NVF62DA1ABQ6|    junemontgomery| NULL|            One Star|    1471651200|    true|NULL| 10|\n",
      "|0972585419|    2.0|Didn't do a thing...|08 18, 2016|A16ZDBZGKYDRSU|      Cheryle Bell| NULL|He hated it and i...|    1471478400|    true|NULL| 11|\n",
      "|0972585419|    4.0|I like it - but t...|07 17, 2016|A20M3TKXKB1M1T|        ocean girl| NULL|I like it - but t...|    1468713600|    true|NULL| 12|\n",
      "|0972585419|    5.0|The product is gr...|07 14, 2016|A3UCTUHXHE36IP|     Thomas Gratny| NULL|The product is gr...|    1468454400|    true|NULL| 13|\n",
      "|0972585419|    3.0|Not a good idea o...|06 24, 2016| AKA4DSUU1ZYKQ|              lala| NULL|  An alternative app|    1466726400|   false|NULL| 14|\n",
      "|0972585419|    4.0|I do like the CD,...|06 20, 2016|A1OD7257M9EOG4|Ronald F Brown Sr.| NULL|    I do like the CD|    1466380800|    true|   2| 15|\n",
      "|0972585419|    1.0|Horrible just a w...|05 27, 2016|A32B3TG1HZ08HM|              D. M| NULL|            Horrible|    1464307200|   false|NULL| 16|\n",
      "|0972585419|    5.0|Great product gre...|03 12, 2016|A2Z3Q1UIVRSIL5|     David Beckman| NULL|          Five Stars|    1457740800|    true|NULL| 17|\n",
      "|0972585419|    5.0|           its great|12 16, 2015|A3EZ18NUU4AJ0B|               deb| NULL|          Five Stars|    1450224000|    true|NULL| 18|\n",
      "|0972585419|    2.0|It had lots of wo...| 12 5, 2015| A2O305WS6Z96X|   Madoline Nugent| NULL|    Speech for birds|    1449273600|    true|NULL| 19|\n",
      "+----------+-------+--------------------+-----------+--------------+------------------+-----+--------------------+--------------+--------+----+---+\n",
      "only showing top 20 rows\n",
      "\n"
     ]
    }
   ],
   "source": [
    "# add a distinct key to each row of data_df\n",
    "add_keys = data_df.withColumn(\"id\", sf.monotonically_increasing_id())\n",
    "#check count distinct id\n",
    "# data_df.select(\"id\").distinct().count()\n",
    "\n"
   ]
  },
  {
   "cell_type": "code",
   "execution_count": 245,
   "metadata": {},
   "outputs": [
    {
     "name": "stderr",
     "output_type": "stream",
     "text": [
      "[Stage 500:=======================================>               (18 + 2) / 25]\r"
     ]
    },
    {
     "name": "stderr",
     "output_type": "stream",
     "text": [
      "[Stage 500:================================================>      (22 + 2) / 25]\r"
     ]
    }
   ],
   "source": [
    "# create new df with 500 rows with equal distribution of overall\n",
    "review_df = add_keys.select('id', 'overall', 'reviewText')"
   ]
  },
  {
   "cell_type": "markdown",
   "metadata": {},
   "source": [
    "#### ADJUST TO NOT USE SUBSET DATA"
   ]
  },
  {
   "cell_type": "code",
   "execution_count": 246,
   "metadata": {},
   "outputs": [
    {
     "name": "stderr",
     "output_type": "stream",
     "text": [
      "                                                                                \r"
     ]
    },
    {
     "name": "stdout",
     "output_type": "stream",
     "text": [
      "Sampled_df shape:  (500, 3)\n",
      "+---+-------+--------------------+\n",
      "| id|overall|          reviewText|\n",
      "+---+-------+--------------------+\n",
      "|  2|    4.0|good cd to teach ...|\n",
      "|  9|    3.0|Bird showed no in...|\n",
      "| 16|    1.0|Horrible just a w...|\n",
      "| 22|    2.0|Disc works fine b...|\n",
      "| 26|    5.0|Great for teachin...|\n",
      "| 32|    1.0|It does not conta...|\n",
      "| 35|    1.0|Don't waste your ...|\n",
      "| 46|    4.0|Really like this ...|\n",
      "| 57|    4.0|finish reading th...|\n",
      "| 58|    5.0|This is the best ...|\n",
      "| 64|    5.0|My cat literally ...|\n",
      "| 66|    3.0|They came to me r...|\n",
      "| 69|    5.0| My cats love it lol|\n",
      "| 79|    2.0|Purchased this ca...|\n",
      "| 80|    5.0|My one year old c...|\n",
      "| 88|    4.0|Two of three of t...|\n",
      "| 91|    5.0|I bought this vid...|\n",
      "| 92|    3.0|If I had gotten j...|\n",
      "|102|    5.0|Nice coat is a gr...|\n",
      "|105|    5.0|Power - Mune Chic...|\n",
      "+---+-------+--------------------+\n",
      "only showing top 20 rows\n",
      "\n"
     ]
    },
    {
     "name": "stderr",
     "output_type": "stream",
     "text": [
      "                                                                                \r"
     ]
    }
   ],
   "source": [
    "sampled_df = review_df.sampleBy('overall', fractions={1.0: 0.2, 2.0: 0.2, 3.0: 0.2, 4.0: 0.2, 5.0: 0.2}, seed=0).limit(500)\n",
    "print('Sampled_df shape: ', (sampled_df.count(), len(sampled_df.columns)))\n",
    "\n",
    "# sampled_df = sampled_df.sort(sf.col(\"id\").asc())\n",
    "# sampled_df.show()"
   ]
  },
  {
   "cell_type": "code",
   "execution_count": 241,
   "metadata": {},
   "outputs": [
    {
     "name": "stderr",
     "output_type": "stream",
     "text": [
      "                                                                                \r"
     ]
    },
    {
     "name": "stdout",
     "output_type": "stream",
     "text": [
      "+---+-------+--------------------+\n",
      "| id|overall|          reviewText|\n",
      "+---+-------+--------------------+\n",
      "|  2|    4.0|good cd to teach ...|\n",
      "|  9|    3.0|Bird showed no in...|\n",
      "| 16|    1.0|Horrible just a w...|\n",
      "| 22|    2.0|Disc works fine b...|\n",
      "| 26|    5.0|Great for teachin...|\n",
      "| 32|    1.0|It does not conta...|\n",
      "| 35|    1.0|Don't waste your ...|\n",
      "| 46|    4.0|Really like this ...|\n",
      "| 57|    4.0|finish reading th...|\n",
      "| 58|    5.0|This is the best ...|\n",
      "| 64|    5.0|My cat literally ...|\n",
      "| 66|    3.0|They came to me r...|\n",
      "| 69|    5.0| My cats love it lol|\n",
      "| 79|    2.0|Purchased this ca...|\n",
      "| 80|    5.0|My one year old c...|\n",
      "| 88|    4.0|Two of three of t...|\n",
      "| 91|    5.0|I bought this vid...|\n",
      "| 92|    3.0|If I had gotten j...|\n",
      "|102|    5.0|Nice coat is a gr...|\n",
      "|105|    5.0|Power - Mune Chic...|\n",
      "+---+-------+--------------------+\n",
      "only showing top 20 rows\n",
      "\n",
      "+---+-------+--------------------+--------------------+\n",
      "| id|overall|          reviewText|       filteredWords|\n",
      "+---+-------+--------------------+--------------------+\n",
      "|  2|    4.0|good cd to teach ...|[good, cd, teach,...|\n",
      "|  9|    3.0|bird showed no in...|[bird, showed, in...|\n",
      "| 16|    1.0|horrible just a w...|[horrible, woman,...|\n",
      "| 22|    2.0|disc works fine b...|[disc, works, fin...|\n",
      "| 26|    5.0|great for teachin...|[great, teaching,...|\n",
      "| 32|    1.0|it does not conta...|[contain, many, w...|\n",
      "| 35|    1.0|dont waste your m...|[dont, waste, mon...|\n",
      "| 46|    4.0|really like this ...|[really, like, cd...|\n",
      "| 57|    4.0|finish reading th...|[finish, reading,...|\n",
      "| 58|    5.0|this is the best ...|[best, updated, b...|\n",
      "| 64|    5.0|my cat literally ...|[cat, literally, ...|\n",
      "| 66|    3.0|they came to me r...|[came, right, awa...|\n",
      "| 69|    5.0| my cats love it lol|   [cats, love, lol]|\n",
      "| 79|    2.0|purchased this ca...|[purchased, cat, ...|\n",
      "| 80|    5.0|my one year old c...|[one, year, old, ...|\n",
      "| 88|    4.0|two of three of t...|[two, three, vide...|\n",
      "| 91|    5.0|i bought this vid...|[bought, video, a...|\n",
      "| 92|    3.0|if i had gotten j...|[gotten, volume, ...|\n",
      "|102|    5.0|nice coat is a gr...|[nice, coat, grea...|\n",
      "|105|    5.0|power  mune chick...|[power, , mune, c...|\n",
      "+---+-------+--------------------+--------------------+\n",
      "only showing top 20 rows\n",
      "\n"
     ]
    }
   ],
   "source": [
    "sampled_df = review_df.sampleBy('overall', fractions={1.0: 0.2, 2.0: 0.2, 3.0: 0.2, 4.0: 0.2, 5.0: 0.2}, seed=0).limit(500)\n",
    "# print(sampled_df.schema)\n",
    "\n",
    "# remove punctuation from reviewText, convert to lowercase, split reviews into list of words\n",
    "clean_txt = sampled_df.withColumn(\"reviewText\", sf.regexp_replace(sf.col(\"reviewText\"), \"[^a-zA-Z0-9\\\\s]\", \"\")) \\\n",
    "                        .withColumn(\"reviewText\", sf.lower(sf.col(\"reviewText\"))) \\\n",
    "                        .withColumn(\"splitText\", sf.split(sf.col(\"reviewText\"), \" \"))\n",
    "\n",
    "# remove stop words\n",
    "stop_words_remover = StopWordsRemover() \\\n",
    "                    .setInputCol(\"splitText\") \\\n",
    "                    .setOutputCol(\"filteredWords\") \\\n",
    "                    .transform(clean_txt)\n",
    "\n",
    "filtered_df = stop_words_remover.select('id', 'overall', 'reviewText', 'filteredWords')\n",
    "filtered_df = filtered_df.filter(sf.col(\"reviewText\").isNotNull())\n",
    "filtered_df.show()\n"
   ]
  },
  {
   "cell_type": "code",
   "execution_count": 247,
   "metadata": {},
   "outputs": [
    {
     "name": "stderr",
     "output_type": "stream",
     "text": [
      "                                                                                \r"
     ]
    },
    {
     "name": "stdout",
     "output_type": "stream",
     "text": [
      "+---+---------------------------------------------------------------------------------------------------------------------------------------------------------------------------------------------------------------------------------------------------------------------------------------------------------------------------------------------------------------------------------------------------------------------------------------------------------------------------------------------------------------------------------------------------------------------------------------------------------------------------------------------------------------------------------------------------------------------------------------------------------------------------------------------+\n",
      "|id |word_counts                                                                                                                                                                                                                                                                                                                                                                                                                                                                                                                                                                                                                                                                                                                                                                                  |\n",
      "+---+---------------------------------------------------------------------------------------------------------------------------------------------------------------------------------------------------------------------------------------------------------------------------------------------------------------------------------------------------------------------------------------------------------------------------------------------------------------------------------------------------------------------------------------------------------------------------------------------------------------------------------------------------------------------------------------------------------------------------------------------------------------------------------------------+\n",
      "|2  |{cd -> 1, new -> 1, learn -> 1, teach -> 1, words -> 1, birds -> 2, good -> 1, home -> 1, calm -> 1, alone -> 1, talk -> 1, keeps -> 1}                                                                                                                                                                                                                                                                                                                                                                                                                                                                                                                                                                                                                                                      |\n",
      "|9  |{interest -> 1, showed -> 1, bird -> 1}                                                                                                                                                                                                                                                                                                                                                                                                                                                                                                                                                                                                                                                                                                                                                      |\n",
      "|16 |{waste -> 1, woman -> 1, sure -> 1, money -> 1, singing -> 1, horrible -> 1, talking -> 1}                                                                                                                                                                                                                                                                                                                                                                                                                                                                                                                                                                                                                                                                                                   |\n",
      "|22 |{works -> 1, like -> 1, fine -> 1, dosent -> 1, bird -> 1, disc -> 1, hear -> 1}                                                                                                                                                                                                                                                                                                                                                                                                                                                                                                                                                                                                                                                                                                             |\n",
      "|26 |{teaching -> 1, time -> 1, phrase -> 1, great -> 1, one -> 1}                                                                                                                                                                                                                                                                                                                                                                                                                                                                                                                                                                                                                                                                                                                                |\n",
      "|32 |{item -> 1, contain -> 1, shipment -> 1, want -> 1, words -> 1, incorporate -> 1, enough -> 1, many -> 1, professionally -> 1, extensive -> 1, handled -> 1, bird -> 1, repetoiredescription -> 1, transaction -> 1}                                                                                                                                                                                                                                                                                                                                                                                                                                                                                                                                                                         |\n",
      "|35 |{waste -> 1, cd -> 1, stopped -> 1, weeks -> 1, turned -> 1, several -> 1, lol -> 1, scream -> 1, played -> 2, everyday -> 1, money -> 1, parrot -> 1, hated -> 1, dont -> 1}                                                                                                                                                                                                                                                                                                                                                                                                                                                                                                                                                                                                                |\n",
      "|46 |{play -> 1, cd -> 2, like -> 1, want -> 1, provided -> 1, say -> 1, choose -> 1, includes -> 1, entire -> 1, really -> 1, whatever -> 1, cockatiel -> 1, wish -> 1, phrase -> 1, repeat -> 1, bird -> 1, parakeet -> 1, phrases -> 1, parrot -> 1, word -> 1, included -> 1, others -> 1, since -> 1}                                                                                                                                                                                                                                                                                                                                                                                                                                                                                        |\n",
      "|57 |{book -> 4, overlooked -> 1, recommend -> 1, hv -> 2, tridacnid -> 1, lot -> 1, feeding -> 1, things -> 1, finish -> 1, clams -> 2, everything -> 1, tank -> 1, highly -> 1, covers -> 1, reef -> 1, pretty -> 1, reading -> 1, really -> 1, caring -> 1, 2 -> 1, selection -> 1, taught -> 1, 5 -> 1, days -> 1, much -> 1}                                                                                                                                                                                                                                                                                                                                                                                                                                                                 |\n",
      "|58 |{book -> 1, james -> 1, best -> 1, troubles -> 1, collecting -> 1, photos -> 1, tridacnid -> 5, 2006 -> 1, shipping -> 1, houston -> 1, farming -> 1, today -> 1, get -> 1, tridacnids5 -> 1, tridacnids6 -> 1, acquisition -> 1, clams -> 1, copy -> 1, including -> 1, basics2 -> 1, biology -> 1, excellent -> 1, bought -> 1, species4 -> 1, welli -> 1, macna -> 1, are1 -> 1, himselfchapters -> 1, updated -> 1, care -> 1, nutrition3 -> 1}                                                                                                                                                                                                                                                                                                                                          |\n",
      "|64 |{sits -> 1, begs -> 1, hours -> 2, movie -> 1, entertainment -> 1, captivated -> 1, literally -> 1, pleads -> 1, part -> 1, lol -> 1, endless -> 1, movies -> 1, falls -> 1, provide -> 1, watch -> 1, cat -> 1, perch -> 1, stand -> 1, pet -> 1, become -> 1, attempts -> 1}                                                                                                                                                                                                                                                                                                                                                                                                                                                                                                               |\n",
      "|66 |{love -> 1, shipper -> 1, product -> 1, away -> 1, dig -> 1, 3rd -> 1, one -> 1, volumes -> 1, 2nd -> 1, right -> 1, seem -> 1, volume -> 1, 1 -> 1, dvd -> 1, goodi -> 1, cats -> 2, far -> 1, keep -> 1, friend -> 1, came -> 1, gave -> 1}                                                                                                                                                                                                                                                                                                                                                                                                                                                                                                                                                |\n",
      "|69 |{love -> 1, lol -> 1, cats -> 1}                                                                                                                                                                                                                                                                                                                                                                                                                                                                                                                                                                                                                                                                                                                                                             |\n",
      "|79 |{maybe -> 1, 1020 -> 1, recommend -> 1, thinking -> 1, dvds -> 1, long -> 1, doesnt -> 1, stilli -> 1, dvd -> 3, price -> 1, cat -> 3, sit -> 1, delivery -> 1, give -> 1, captures -> 1, break -> 1, minutes -> 1, one -> 1, active -> 2, say -> 1, enough -> 1, great -> 1, look -> 1, hoping -> 1, fast -> 1, purchased -> 1, even -> 1, trying -> 1, keep -> 1, attention -> 2, know -> 1, playing -> 1, first -> 2, dont -> 1}                                                                                                                                                                                                                                                                                                                                                          |\n",
      "|80 |{favorites -> 1, behind -> 1, tv -> 1, away -> 1, butterflies -> 1, year -> 1, screen -> 1, awake -> 1, mice -> 1, without -> 1, long -> 1, tried -> 1, laser -> 1, stalked -> 1, cat -> 1, eat -> 1, helpful -> 1, hours -> 1, cables -> 1, still -> 1, need -> 1, minutes -> 1, old -> 1, work -> 1, loves -> 1, sat -> 1, one -> 1, particular -> 1, home -> 1, never -> 1, 5 -> 1, series -> 1, focused -> 1, attention -> 1, interruption -> 1, first -> 1, quietly -> 1}                                                                                                                                                                                                                                                                                                               |\n",
      "|88 |{reason -> 1, thefish -> 1, half -> 1, gotten -> 1, interesting -> 1, one -> 2, videos -> 2, video -> 1, two -> 1, three -> 1, single -> 1, cat -> 1, attention -> 1, goodproduct -> 1, overall -> 1, first -> 1, care -> 1, span -> 1, covers -> 1}                                                                                                                                                                                                                                                                                                                                                                                                                                                                                                                                         |\n",
      "|91 |{pets -> 1, tv -> 3, year -> 1, moved -> 1, sound -> 1, feel -> 1, jumps -> 1, looks -> 1, dvd -> 1, leave -> 1, friend -> 1, catch -> 1, asleep -> 1, five -> 1, pet -> 1, old -> 1, work -> 1, felt -> 1, bluebird -> 1, hoping -> 1, volunteer -> 1, guilty -> 1, 5 -> 1, indoor -> 1, leaving -> 1, become -> 1, love -> 1, allow -> 1, advice -> 1, part -> 1, comes -> 1, recommend -> 1, video -> 4, stares -> 1, life -> 1, lot -> 1, alone -> 1, ready -> 1, cat -> 2, get -> 1, spend -> 1, retired -> 1, place -> 1, dear -> 1, meows -> 1, gives -> 1, highly -> 1, player -> 1, sits -> 1, ordered -> 1, set -> 1, business -> 1, bought -> 1, loves -> 1, toed -> 1, outdoors -> 1, front -> 1, time -> 1, certain -> 1, runs -> 1, sitting -> 1, apartment -> 1, adopted -> 1}|\n",
      "|92 |{hands -> 1, gotten -> 1, tell -> 1, guinea -> 1, source -> 1, got -> 1, gerbils -> 1, three -> 3, rodents -> 1, decided -> 1, pigs -> 1, instantly -> 1, either -> 1, reviews -> 1, far -> 1, dogs -> 1, five -> 1, give -> 1, given -> 1, read -> 1, natural -> 3, thus -> 1, combo -> 1, less -> 1, pack -> 1, something -> 1, quality -> 2, volume -> 3, feral -> 1, cartoons -> 1, trilogy -> 1, attracted -> 2, much -> 1, care -> 1, since -> 3, little -> 1, lol -> 1, dollars -> 1, best -> 1, video -> 1, birds -> 2, bowl -> 1, two -> 3, eyes -> 1, naturally -> 1, vol -> 2, see -> 1, native -> 1, extra -> 1, get -> 1, contrary -> 1, live -> 1, knew -> 1, one -> 1, also -> 2, stars -> 2, food -> 2, better -> 2, cats -> 4, fish -> 1, fishermen -> 1, wild -> 1}        |\n",
      "|102|{product -> 2, idea -> 1, particular -> 1, right -> 2, improvement -> 1, easy -> 1, great -> 2, nice -> 1, herbs -> 1, appear -> 1, coat -> 2, dose -> 1, find -> 1, dogs -> 2, administer -> 1, helpful -> 1, press -> 1, dog -> 1, mix -> 2}                                                                                                                                                                                                                                                                                                                                                                                                                                                                                                                                               |\n",
      "|105|{give -> 1, product -> 1, chicken -> 1, loves -> 1, solved -> 1, wonderful -> 1, mune -> 1, easy -> 1, great -> 1, two -> 1, years -> 1, flavor -> 1, problem -> 1, definitely -> 1, solve -> 1, cat -> 2, power -> 1}                                                                                                                                                                                                                                                                                                                                                                                                                                                                                                                                                                       |\n",
      "+---+---------------------------------------------------------------------------------------------------------------------------------------------------------------------------------------------------------------------------------------------------------------------------------------------------------------------------------------------------------------------------------------------------------------------------------------------------------------------------------------------------------------------------------------------------------------------------------------------------------------------------------------------------------------------------------------------------------------------------------------------------------------------------------------------+\n",
      "only showing top 20 rows\n",
      "\n"
     ]
    }
   ],
   "source": [
    "def count_words(words):\n",
    "    # remobe newline characters\n",
    "    words = [word.replace('\\n', '') for word in words]\n",
    "    # Filter out empty strings\n",
    "    words = [word for word in words if word.strip()]\n",
    "    return {word: words.count(word) for word in set(words)}\n",
    "# Convert DataFrame to RDD and perform mapping and reduceByKey to count words\n",
    "word_counts_rdd = (\n",
    "    filtered_df.select(\"id\", \"filteredWords\")\n",
    "    .rdd  # Convert to RDD for map-reduce operations\n",
    "    .flatMap(lambda row: [(word, 1) for word in row[\"filteredWords\"]])\n",
    "    .reduceByKey(lambda a, b: a + b)\n",
    ")\n",
    "\n",
    "# convert word_counts_rdd to dict\n",
    "word_counts_dict = dict(word_counts_rdd.collect())\n",
    "\n",
    "# add a new column with word counts as a dict\n",
    "def add_word_counts(row):\n",
    "    word_counts = count_words(row[\"filteredWords\"])\n",
    "    return (row[\"id\"], word_counts)\n",
    "\n",
    "# apply function to each row in the original df\n",
    "filtered_df_with_counts_rdd = filtered_df.rdd.map(lambda row: add_word_counts(row))\n",
    "\n",
    "# convert RDD back to df\n",
    "filtered_df_with_counts = filtered_df_with_counts_rdd.toDF([\"id\", \"word_counts\"])\n",
    "\n",
    "filtered_df_with_counts.show(truncate=False)"
   ]
  },
  {
   "cell_type": "code",
   "execution_count": 248,
   "metadata": {},
   "outputs": [],
   "source": [
    "# join filtered_df and filtered_df_with_counts on id selecting only id, overall, revierText, and word_counts\n",
    "join_df = filtered_df.join(filtered_df_with_counts, on=['id'], how='left').select('id', 'overall', 'reviewText', 'word_counts')"
   ]
  },
  {
   "cell_type": "code",
   "execution_count": 249,
   "metadata": {},
   "outputs": [
    {
     "name": "stdout",
     "output_type": "stream",
     "text": [
      "Join_df shape:  (500, 4)\n"
     ]
    },
    {
     "name": "stderr",
     "output_type": "stream",
     "text": [
      "                                                                                \r"
     ]
    }
   ],
   "source": [
    "# sort join_df by id\n",
    "join_df = join_df.sort(sf.col(\"id\").asc())\n",
    "\n",
    "# join_df.show()\n",
    "\n",
    "# print shape of join_df\n",
    "print('Join_df shape: ', (join_df.count(), len(join_df.columns)))"
   ]
  },
  {
   "cell_type": "markdown",
   "metadata": {},
   "source": [
    " 1. identify review keywords, \n",
    "         calculate their frequencies, and\n",
    "         average rating for specific products or product categories. \n",
    "\n",
    "\n",
    " 2.  analysis to determine product trends, \n",
    "         identify most popular product categories, or \n",
    "         identify relationships between customers who purchase and review the same item. "
   ]
  },
  {
   "cell_type": "code",
   "execution_count": null,
   "metadata": {},
   "outputs": [],
   "source": [
    "# meta_df = spark.read.schema(meta_schema).json(\"data/meta_Pet_Supplies.json\")\n",
    "# meta_df = spark.read.json(\"data/meta_Pet_Supplies.json\", schema=meta_schema)"
   ]
  },
  {
   "cell_type": "code",
   "execution_count": null,
   "metadata": {},
   "outputs": [],
   "source": [
    "# # meta_data.printSchema()\n",
    "\n",
    "# meta_schema = StructType([StructField(\"also_buy\", ArrayType(StringType(), True), True),\n",
    "#                             StructField(\"also_view\", ArrayType(StringType(), True), True),\n",
    "#                             StructField(\"asin\", StringType(), True),\n",
    "#                             StructField(\"brand\", StringType(), True),\n",
    "#                             StructField(\"category\", ArrayType(StringType(), True), True),\n",
    "#                             StructField(\"date\", StringType(), True),\n",
    "#                             StructField(\"description\", ArrayType(StringType(), True), True),\n",
    "#                             StructField(\"details\", StructType([\n",
    "#                                 StructField(\"\\n    Item Weight: \\n    \", StringType(), True),\n",
    "#                                 StructField(\"\\n    Package Dimensions: \\n    \", StringType(), True),\n",
    "#                                 StructField(\"\\n    Product Dimensions: \\n    \", StringType(), True),\n",
    "#                                 StructField(\" Date first listed on Amazon:\", StringType(), True),\n",
    "#                                 StructField(\" UNSPSC Code:\", StringType(), True),\n",
    "#                                 StructField(\" ASIN:\", StringType(), True),\n",
    "#                                 StructField(\" ASIN: \", StringType(), True),\n",
    "#                                 StructField(\" Audio CD\", StringType(), True),\n",
    "#                                 StructField(\" Audio Cassette\", StringType(), True),\n",
    "#                                 StructField(\" Batteries\", StringType(), True),\n",
    "#                                 StructField(\" Discontinued by manufacturer:\", StringType(), True),\n",
    "#                                 StructField(\" Domestic Shipping: \", StringType(), True),\n",
    "#                                 StructField(\" Hardcover:\", StringType(), True),\n",
    "#                                 StructField(\" International Shipping: \", StringType(), True),\n",
    "#                                 StructField(\" Item model number:\", StringType(), True),\n",
    "#                                 StructField(\" Label:\", StringType(), True),\n",
    "#                                 StructField(\" Language:\", StringType(), True),\n",
    "#                                 StructField(\" Number of Discs:\", StringType(), True),\n",
    "#                                 StructField(\" Publisher:\", StringType(), True),\n",
    "#                                 StructField(\" Shipping Advisory:\", StringType(), True),\n",
    "#                                 StructField(\" Shipping Weight:\", StringType(), True),\n",
    "#                                 StructField(\" Subtitles:\", StringType(), True),\n",
    "#                                 StructField(\" UPC:\", StringType(), True),]), True),\n",
    "#                             StructField(\"feature\", ArrayType(StringType(), True), True),\n",
    "#                             StructField(\"fit\", StringType(), True),\n",
    "#                             StructField(\"imageURL\", ArrayType(StringType(), True), True),\n",
    "#                             StructField(\"imageURLHighRes\", ArrayType(StringType(), True), True),\n",
    "#                             StructField(\"main_cat\", StringType(), True),\n",
    "#                             StructField(\"price\", StringType(), True),\n",
    "#                             StructField(\"rank\", StringType(), True),\n",
    "#                             StructField(\"similar_item\", StringType(), True),\n",
    "#                             StructField(\"tech1\", StringType(), True),\n",
    "#                             StructField(\"tech2\", StringType(), True),\n",
    "#                             StructField(\"title\", StringType(), True)])"
   ]
  }
 ],
 "metadata": {
  "kernelspec": {
   "display_name": "spark-env",
   "language": "python",
   "name": "python3"
  },
  "language_info": {
   "codemirror_mode": {
    "name": "ipython",
    "version": 3
   },
   "file_extension": ".py",
   "mimetype": "text/x-python",
   "name": "python",
   "nbconvert_exporter": "python",
   "pygments_lexer": "ipython3",
   "version": "3.12.0"
  }
 },
 "nbformat": 4,
 "nbformat_minor": 2
}
